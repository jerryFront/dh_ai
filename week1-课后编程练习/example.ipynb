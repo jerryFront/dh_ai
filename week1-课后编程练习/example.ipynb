{
 "cells": [
  {
   "cell_type": "code",
   "execution_count": 4,
   "metadata": {},
   "outputs": [
    {
     "name": "stdout",
     "output_type": "stream",
     "text": [
      "Final weights: [1.33403086 2.00014752 2.66626418]\n",
      "Final bias: 0.6661166588845744\n"
     ]
    }
   ],
   "source": [
    "import numpy as np\n",
    "\n",
    "# 生成示例数据\n",
    "X = np.array([\n",
    "    [1.0, 2.0, 3.0],\n",
    "    [2.0, 3.0, 4.0],\n",
    "    [3.0, 4.0, 5.0],\n",
    "    [4.0, 5.0, 6.0]\n",
    "])\n",
    "\n",
    "y = np.array([14.0, 20, 26, 32])\n",
    "\n",
    "# 初始化参数\n",
    "w = np.zeros(3)  # 权重 (3,)\n",
    "b = 0  # 偏置\n",
    "learning_rate = 0.01\n",
    "batch_size = 2\n",
    "epochs = 1000\n",
    "\n",
    "# 小批量梯度下降\n",
    "for epoch in range(epochs):\n",
    "    permutation = np.random.permutation(X.shape[0])\n",
    "    X_shuffled = X[permutation]\n",
    "    y_shuffled = y[permutation]\n",
    "\n",
    "    for i in range(0, X.shape[0], batch_size):\n",
    "        X_batch = X_shuffled[i:i + batch_size]\n",
    "        y_batch = y_shuffled[i:i + batch_size]\n",
    "\n",
    "        # 计算预测值\n",
    "        y_pred = np.dot(X_batch, w) + b\n",
    "\n",
    "        # 计算梯度\n",
    "        dw = np.dot(X_batch.T, (y_pred - y_batch)) / batch_size\n",
    "        db = np.sum(y_pred - y_batch) / batch_size\n",
    "\n",
    "        # 更新参数\n",
    "        w -= learning_rate * dw\n",
    "        b -= learning_rate * db\n",
    "\n",
    "# 输出结果\n",
    "print(f\"Final weights: {w}\")\n",
    "print(f\"Final bias: {b}\")"
   ]
  }
 ],
 "metadata": {
  "kernelspec": {
   "display_name": "myenv",
   "language": "python",
   "name": "python3"
  },
  "language_info": {
   "codemirror_mode": {
    "name": "ipython",
    "version": 3
   },
   "file_extension": ".py",
   "mimetype": "text/x-python",
   "name": "python",
   "nbconvert_exporter": "python",
   "pygments_lexer": "ipython3",
   "version": "3.10.12"
  }
 },
 "nbformat": 4,
 "nbformat_minor": 2
}

{
 "cells": [
  {
   "cell_type": "code",
   "execution_count": 3,
   "metadata": {},
   "outputs": [
    {
     "name": "stdout",
     "output_type": "stream",
     "text": [
      "{'name': '验证码识别', 'dataset': {'name': 'captcha', 'train_total': 10000, 'test_total': 1000, 'captcha_length': 1, 'width': 200, 'height': 100, 'characters': '0123456789', 'train_dir': 'data/train', 'test_dir': 'data/test'}, 'model': {'type': 'CNN', 'layers': 5, 'activation': 'relu'}, 'training': {'train_dir': 'data/train', 'batch_size': 128, 'learning_rate': 0.001, 'epochs': 50, 'evaluate': True, 'model_path': './model/model.pth'}, 'testing': {'test_dir': 'data/test', 'model_path': './model/model.pth'}}\n",
      "<class 'bool'>\n"
     ]
    }
   ],
   "source": [
    "import yaml\n",
    "\n",
    "# 打开并读取 YAML 文件\n",
    "with open('./config.yaml', 'r') as file:\n",
    "    config = yaml.safe_load(file)\n",
    "\n",
    "# 输出解析后的 Python 字典\n",
    "print(config)\n",
    "\n",
    "# 访问特定配置项\n",
    "print(config['training']['evaluate'])  # 输出: CNN"
   ]
  },
  {
   "cell_type": "code",
   "execution_count": 7,
   "metadata": {},
   "outputs": [
    {
     "name": "stdout",
     "output_type": "stream",
     "text": [
      "2.3020607335567473\n",
      "2.039491341948509\n",
      "1.0194213927821256\n",
      "0.5158141216741351\n",
      "0.3220077866648753\n",
      "0.2706733280072217\n",
      "0.18498209164651813\n",
      "0.1611229153689681\n",
      "Counter: 1\n",
      "0.17335387797373533\n",
      "0.1459376681901153\n",
      "0.14415635538482297\n",
      "0.13065030967203936\n",
      "0.10870517556085056\n",
      "0.09841014109749086\n",
      "Counter: 1\n",
      "0.1151253210754164\n",
      "Counter: 2\n",
      "0.13909800600919955\n",
      "Counter: 3\n",
      "0.10651186918238796\n",
      "Counter: 4\n",
      "0.10578753057510773\n",
      "Counter: 5\n",
      "Early stopping..., epoch: 18\n"
     ]
    }
   ],
   "source": [
    "loss_list = [2.3020607335567473, 2.039491341948509, 1.0194213927821256, 0.5158141216741351, 0.3220077866648753, 0.2706733280072217, 0.18498209164651813, 0.1611229153689681, 0.17335387797373533,\n",
    "             0.1459376681901153, 0.14415635538482297, 0.13065030967203936, 0.10870517556085056, 0.09841014109749086, 0.1151253210754164, 0.13909800600919955, 0.10651186918238796, 0.10578753057510773, 0.13021349731665155]\n",
    "\n",
    "\n",
    "class EarlyStopping:\n",
    "    def __init__(self, patience=5, delta=0.0001):\n",
    "        self.patience = patience\n",
    "        self.delta = delta\n",
    "        self.counter = 0\n",
    "        self.best_loss = None\n",
    "        self.early_stop = False\n",
    "\n",
    "    def __call__(self, loss):\n",
    "        if self.best_loss is None:\n",
    "            self.best_loss = loss\n",
    "        elif self.best_loss - loss > self.delta:\n",
    "            self.best_loss = loss\n",
    "            self.counter = 0\n",
    "        else:\n",
    "            self.counter += 1\n",
    "            print('Counter:', self.counter)\n",
    "            if self.counter >= self.patience:\n",
    "                self.early_stop = True\n",
    "        return self.early_stop\n",
    "\n",
    "\n",
    "early_stopping = EarlyStopping()\n",
    "for epoch, loss in enumerate(loss_list):\n",
    "    if early_stopping(loss):\n",
    "        print('Early stopping..., epoch:', epoch)\n",
    "        break\n",
    "    print(loss)"
   ]
  }
 ],
 "metadata": {
  "kernelspec": {
   "display_name": "myenv",
   "language": "python",
   "name": "python3"
  },
  "language_info": {
   "codemirror_mode": {
    "name": "ipython",
    "version": 3
   },
   "file_extension": ".py",
   "mimetype": "text/x-python",
   "name": "python",
   "nbconvert_exporter": "python",
   "pygments_lexer": "ipython3",
   "version": "3.10.12"
  }
 },
 "nbformat": 4,
 "nbformat_minor": 2
}

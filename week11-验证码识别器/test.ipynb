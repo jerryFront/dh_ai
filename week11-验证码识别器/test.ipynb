{
 "cells": [
  {
   "cell_type": "code",
   "execution_count": 3,
   "metadata": {},
   "outputs": [
    {
     "name": "stdout",
     "output_type": "stream",
     "text": [
      "{'name': '验证码识别', 'dataset': {'name': 'captcha', 'train_total': 10000, 'test_total': 1000, 'captcha_length': 1, 'width': 200, 'height': 100, 'characters': '0123456789', 'train_dir': 'data/train', 'test_dir': 'data/test'}, 'model': {'type': 'CNN', 'layers': 5, 'activation': 'relu'}, 'training': {'train_dir': 'data/train', 'batch_size': 128, 'learning_rate': 0.001, 'epochs': 50, 'evaluate': True, 'model_path': './model/model.pth'}, 'testing': {'test_dir': 'data/test', 'model_path': './model/model.pth'}}\n",
      "<class 'bool'>\n"
     ]
    }
   ],
   "source": [
    "import yaml\n",
    "\n",
    "# 打开并读取 YAML 文件\n",
    "with open('./config.yaml', 'r') as file:\n",
    "    config = yaml.safe_load(file)\n",
    "\n",
    "# 输出解析后的 Python 字典\n",
    "print(config)\n",
    "\n",
    "# 访问特定配置项\n",
    "print(config['training']['evaluate'])  # 输出: CNN"
   ]
  }
 ],
 "metadata": {
  "kernelspec": {
   "display_name": "myenv",
   "language": "python",
   "name": "python3"
  },
  "language_info": {
   "codemirror_mode": {
    "name": "ipython",
    "version": 3
   },
   "file_extension": ".py",
   "mimetype": "text/x-python",
   "name": "python",
   "nbconvert_exporter": "python",
   "pygments_lexer": "ipython3",
   "version": "3.10.12"
  }
 },
 "nbformat": 4,
 "nbformat_minor": 2
}

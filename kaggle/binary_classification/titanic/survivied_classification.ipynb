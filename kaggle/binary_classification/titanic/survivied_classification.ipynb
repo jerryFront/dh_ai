{
 "cells": [
  {
   "cell_type": "code",
   "execution_count": 28,
   "metadata": {},
   "outputs": [],
   "source": [
    "\"\"\"\n",
    "估计 Titanic 乘客生还率\n",
    "https://www.kaggle.com/competitions/titanic/overview\n",
    "\n",
    "score: 0.76794\n",
    "\"\"\"\n",
    "\n",
    "import numpy as np\n",
    "import pandas as pd\n",
    "\n",
    "X = pd.read_csv('./data/train.csv')\n",
    "\n",
    "# print( X['Pclass'].unique(), X['Fare'].unique())\n",
    "\n",
    "# 按照 Pclass 分组, 并计算 Fare 的平均值\n",
    "# print(X.groupby('Pclass').Fare.mean())\n",
    "# print(X[X['Pclass'] == 1]['Fare'].describe())\n",
    "# print(X[X['Pclass'] == 2]['Fare'].describe())\n",
    "# print(X[X['Pclass'] == 3]['Fare'].describe())\n",
    "\n",
    "\"\"\"\n",
    "- PassengerId 乘客ID\n",
    "- Ticket 票号\n",
    "- Name 姓名\n",
    "- Cabin 船舱号(类似于高铁的座位号)\n",
    "\"\"\"\n",
    "\n",
    "\"\"\"\n",
    "类别特征:\n",
    "- Pclass: 1, 2, 3 (分别表示一等座, 二等座, 三等座)\n",
    "- Sex: male, female\n",
    "- Embarked: 登船港口, C = Cherbourg, Q = Queenstown, S = Southampton\n",
    "\"\"\"\n",
    "\n",
    "def clear_data(X):\n",
    "    X = X[['Pclass', 'Sex', 'Age', 'SibSp',\n",
    "           'Parch', 'Fare', 'Embarked']]\n",
    "    X = pd.get_dummies(\n",
    "        X, columns=['Pclass', 'Sex', 'Embarked'], drop_first=False, dtype=np.int8)\n",
    "    \n",
    "    return X.fillna(0, inplace=False)\n",
    "\n",
    "\n",
    "y = X['Survived']\n",
    "X_train = clear_data(X)"
   ]
  },
  {
   "cell_type": "code",
   "execution_count": 29,
   "metadata": {},
   "outputs": [
    {
     "name": "stdout",
     "output_type": "stream",
     "text": [
      "Iteration 0, loss: 2.424731492996216\n",
      "Iteration 1000, loss: 0.44992098212242126\n",
      "Iteration 2000, loss: 0.4498960077762604\n",
      "Iteration 3000, loss: 0.4498603343963623\n",
      "Iteration 4000, loss: 0.44981759786605835\n",
      "Iteration 5000, loss: 0.44980356097221375\n",
      "Iteration 6000, loss: 0.4497412443161011\n",
      "Iteration 7000, loss: 0.44972464442253113\n",
      "Iteration 8000, loss: 0.44992953538894653\n",
      "Iteration 9000, loss: 0.4496934115886688\n"
     ]
    }
   ],
   "source": [
    "import torch\n",
    "import torch.nn as nn\n",
    "\n",
    "class LogisticRegression(nn.Module):\n",
    "    def __init__(self, input_dim):\n",
    "        super(LogisticRegression, self).__init__()\n",
    "        self.linear = nn.Linear(input_dim, 1)\n",
    "\n",
    "    def forward(self, x):\n",
    "        return torch.sigmoid(self.linear(x))\n",
    "\n",
    "n_features = X_train.shape[1]\n",
    "model = LogisticRegression(n_features)\n",
    "optimizer = torch.optim.Adam(model.parameters(), lr=0.01)\n",
    "criteria = nn.BCELoss()  # Binary Cross Entropy Loss\n",
    "\n",
    "X_train_tensor = torch.tensor(X_train.values, dtype=torch.float32)\n",
    "y_train_tensor = torch.tensor(y.values, dtype=torch.float32).view(-1, 1) # view(-1, 1) 将 y 变成列向量\n",
    "\n",
    "for i in range(10000):\n",
    "    optimizer.zero_grad()\n",
    "    y_pred = model(X_train_tensor)\n",
    "    loss = criteria(y_pred, y_train_tensor)\n",
    "    loss.backward()\n",
    "    optimizer.step()\n",
    "\n",
    "    if i % 1000 == 0:\n",
    "        print(f'Iteration {i}, loss: {loss.item()}')"
   ]
  },
  {
   "cell_type": "code",
   "execution_count": 43,
   "metadata": {},
   "outputs": [],
   "source": [
    "import pandas as pd\n",
    "\n",
    "X_test_origin = pd.read_csv('./data/test.csv')\n",
    "X_test = clear_data(X_test_origin)\n",
    "X_test_tensor = torch.tensor(X_test.values, dtype=torch.float32)\n",
    "\n",
    "model.eval()\n",
    "y_pred = model(X_test_tensor).detach().numpy()\n",
    "y_pred = np.where(y_pred > 0.5, 1, 0)\n",
    "\n",
    "# 将 X_test_origin 中的 PassengerId 列 和 y_pred 合并\n",
    "result = np.concatenate([X_test_origin['PassengerId'].to_numpy().reshape(-1, 1), y_pred], axis=1)\n",
    "result = pd.DataFrame(result, columns=['PassengerId', 'Survived'])\n",
    "result.to_csv('./data/result.csv', index=False)"
   ]
  }
 ],
 "metadata": {
  "kernelspec": {
   "display_name": "myenv",
   "language": "python",
   "name": "python3"
  },
  "language_info": {
   "codemirror_mode": {
    "name": "ipython",
    "version": 3
   },
   "file_extension": ".py",
   "mimetype": "text/x-python",
   "name": "python",
   "nbconvert_exporter": "python",
   "pygments_lexer": "ipython3",
   "version": "3.10.12"
  }
 },
 "nbformat": 4,
 "nbformat_minor": 2
}

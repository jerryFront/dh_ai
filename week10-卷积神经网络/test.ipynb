{
 "cells": [
  {
   "cell_type": "code",
   "execution_count": 3,
   "metadata": {},
   "outputs": [
    {
     "data": {
      "text/plain": [
       "torch.Size([2, 3])"
      ]
     },
     "execution_count": 3,
     "metadata": {},
     "output_type": "execute_result"
    }
   ],
   "source": [
    "import torch\n",
    "import torch.nn as nn\n",
    "\n",
    "\n",
    "class SimpleNetwork(nn.Module):\n",
    "    def __init__(self, input_size, output_size):\n",
    "        super(SimpleNetwork, self).__init__()\n",
    "        self.linear = nn.Linear(input_size, output_size)\n",
    "\n",
    "    def forward(self, x):\n",
    "        return self.linear(x)\n",
    "\n",
    "\n",
    "model = SimpleNetwork(3, 2)\n",
    "model.linear.weight.shape"
   ]
  },
  {
   "cell_type": "code",
   "execution_count": 25,
   "metadata": {},
   "outputs": [
    {
     "name": "stdout",
     "output_type": "stream",
     "text": [
      "Parameter containing:\n",
      "tensor([[-0.0024,  0.1696, -0.2603, -0.2327, -0.1218,  0.0848, -0.0063,  0.2507,\n",
      "         -0.0281,  0.0837]], requires_grad=True)\n",
      "Parameter containing:\n",
      "tensor([[-0.0024,  0.1696, -0.2603, -0.2327, -0.1218,  0.0848, -0.0063,  0.2507,\n",
      "         -0.0281,  0.0837]], requires_grad=True)\n",
      "model.weight.grad tensor([[-0.4056, -1.7492, -1.1658, -1.5664,  0.0871, -1.6991, -2.0246,  0.0860,\n",
      "          1.3963, -5.5364]])\n"
     ]
    }
   ],
   "source": [
    "import torch\n",
    "import torch.nn as nn\n",
    "\n",
    "# 使用固定的随机种子\n",
    "torch.manual_seed(0)\n",
    "\n",
    "# 假设你有一个简单的线性模型\n",
    "model = nn.Linear(10, 1)\n",
    "print(model.weight)\n",
    "\n",
    "input = torch.randn(1, 10)\n",
    "output = model(input)  # 没有使用 torch.no_grad()\n",
    "print(model.weight)\n",
    "\n",
    "# 假设你有一个损失函数\n",
    "loss = (output - torch.tensor([1.0])).pow(2).mean()\n",
    "\n",
    "# 反向传播\n",
    "loss.backward()\n",
    "\n",
    "# 检查梯度\n",
    "print('model.weight.grad', model.weight.grad)  # 如果没有使用 torch.no_grad()，会看到梯度"
   ]
  }
 ],
 "metadata": {
  "kernelspec": {
   "display_name": "myenv",
   "language": "python",
   "name": "python3"
  },
  "language_info": {
   "codemirror_mode": {
    "name": "ipython",
    "version": 3
   },
   "file_extension": ".py",
   "mimetype": "text/x-python",
   "name": "python",
   "nbconvert_exporter": "python",
   "pygments_lexer": "ipython3",
   "version": "3.9.19"
  }
 },
 "nbformat": 4,
 "nbformat_minor": 2
}

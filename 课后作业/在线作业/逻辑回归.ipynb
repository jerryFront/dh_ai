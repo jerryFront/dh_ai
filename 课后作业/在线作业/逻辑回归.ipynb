{
 "cells": [
  {
   "cell_type": "code",
   "execution_count": 1,
   "metadata": {},
   "outputs": [],
   "source": [
    "import torch\n",
    "from torch import nn\n",
    "\n",
    "\n",
    "class LogisticRegression(nn.Module):\n",
    "    # 模型的初始化init函数\n",
    "    def __init__(self):\n",
    "        super(LogisticRegression, self).__init__()\n",
    "        # 逻辑回归是一个输出\n",
    "        self.linear = nn.Linear(in_features=2,\n",
    "                                out_features=1)\n",
    "\n",
    "    def forward(self, x):\n",
    "        # 前向传播forward函数\n",
    "        x = self.linear(x)\n",
    "        return torch.sigmoid(x)"
   ]
  },
  {
   "cell_type": "code",
   "execution_count": null,
   "metadata": {},
   "outputs": [],
   "source": [
    "# 生成用于绘制决策边界的等高线数据\n",
    "# min-x1到max-x1是画板的横轴范围，min-x2到max-x2是画板的纵轴范围\n",
    "# model是训练好的模型\n",
    "# 函数中，我们会根据已训练的model，计算对应类别结果，\n",
    "# 不同类别结果会对应不同的高度\n",
    "# 基于数据点的坐标与高度数据，绘制等高线\n",
    "def draw_decision_boundary(minx1, maxx1, minx2, maxx2, model):\n",
    "    # 调用mesh-grid生成网格数据点\n",
    "    # 每个点的距离是0.02，这样生成的点可以覆盖平面的全部范围\n",
    "    xx1, xx2 = numpy.meshgrid(numpy.arange(minx1, maxx1, 0.02),\n",
    "                              numpy.arange(minx2, maxx2, 0.02))\n",
    "    # 设置x1s、x2s和z分别表示数据点的横坐标、纵坐标和预测结果\n",
    "    x1s = xx1.ravel()\n",
    "    x2s = xx2.ravel()\n",
    "    z = list()\n",
    "    for x1, x2 in zip(x1s, x2s):  # 遍历全部样本\n",
    "        # 将样本转为张量\n",
    "        test_point = torch.FloatTensor([[x1, x2]])\n",
    "        output = model(test_point)  # 使用model预测结果\n",
    "        # 选择概率最大的类别\n",
    "        predicted = (output >= 0.5).int()\n",
    "        z.append(predicted.item())  # 添加到高度z中\n",
    "    # 将z重新设置为和xx1相同的形式\n",
    "    z = numpy.array(z).reshape(xx1.shape)\n",
    "    return xx1, xx2, z  # 返回xx1、xx2和z"
   ]
  }
 ],
 "metadata": {
  "kernelspec": {
   "display_name": "myenv",
   "language": "python",
   "name": "python3"
  },
  "language_info": {
   "codemirror_mode": {
    "name": "ipython",
    "version": 3
   },
   "file_extension": ".py",
   "mimetype": "text/x-python",
   "name": "python",
   "nbconvert_exporter": "python",
   "pygments_lexer": "ipython3",
   "version": "3.9.19"
  }
 },
 "nbformat": 4,
 "nbformat_minor": 2
}

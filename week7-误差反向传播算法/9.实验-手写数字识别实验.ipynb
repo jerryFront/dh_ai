{
 "cells": [
  {
   "cell_type": "code",
   "execution_count": 2,
   "metadata": {},
   "outputs": [],
   "source": [
    "import torch\n",
    "import torch.nn as nn\n",
    "\n",
    "class Net(nn.Module):\n",
    "  def __init__(self):\n",
    "    super(Net, self).__init__()\n",
    "    self.fc1 = nn.Linear(28 * 28, 256)\n",
    "    self.fc2 = nn.Linear(256, 10)\n",
    "\n",
    "  def forward(self, x):\n",
    "    x = x.view(-1, 28 * 28)\n",
    "    x = torch.relu(self.fc1(x))\n",
    "    x = self.fc2(x)\n",
    "    return x\n",
    "  \n",
    "  def predict(self, x):\n",
    "    with torch.no_grad():\n",
    "      x = self.forward(x)\n",
    "      return torch.argmax(x, 1)"
   ]
  },
  {
   "cell_type": "code",
   "execution_count": 1,
   "metadata": {},
   "outputs": [],
   "source": [
    "from torchvision import datasets, transforms\n",
    "\n",
    "# 加载训练数据集\n",
    "train_dataset = datasets.MNIST(\n",
    "    root='./data', train=True, download=True, transform=transforms.ToTensor())\n",
    "\n",
    "# 加载测试数据集\n",
    "test_dataset = datasets.MNIST(\n",
    "    root='./data', train=False, download=True, transform=transforms.ToTensor())"
   ]
  },
  {
   "cell_type": "code",
   "execution_count": 43,
   "metadata": {},
   "outputs": [
    {
     "name": "stdout",
     "output_type": "stream",
     "text": [
      "Epoch [1/5], Iter [100/937] Loss: 0.2297\n",
      "Epoch [1/5], Iter [200/937] Loss: 0.2404\n",
      "Epoch [1/5], Iter [300/937] Loss: 0.2406\n",
      "Epoch [1/5], Iter [400/937] Loss: 0.2902\n",
      "Epoch [1/5], Iter [500/937] Loss: 0.2470\n",
      "Epoch [1/5], Iter [600/937] Loss: 0.0570\n",
      "Epoch [1/5], Iter [700/937] Loss: 0.1604\n",
      "Epoch [1/5], Iter [800/937] Loss: 0.0573\n",
      "Epoch [1/5], Iter [900/937] Loss: 0.1871\n",
      "Epoch [2/5], Iter [100/937] Loss: 0.0702\n",
      "Epoch [2/5], Iter [200/937] Loss: 0.1708\n",
      "Epoch [2/5], Iter [300/937] Loss: 0.1864\n",
      "Epoch [2/5], Iter [400/937] Loss: 0.0392\n",
      "Epoch [2/5], Iter [500/937] Loss: 0.1169\n",
      "Epoch [2/5], Iter [600/937] Loss: 0.0889\n",
      "Epoch [2/5], Iter [700/937] Loss: 0.0444\n",
      "Epoch [2/5], Iter [800/937] Loss: 0.2079\n",
      "Epoch [2/5], Iter [900/937] Loss: 0.0279\n",
      "Epoch [3/5], Iter [100/937] Loss: 0.0690\n",
      "Epoch [3/5], Iter [200/937] Loss: 0.0860\n",
      "Epoch [3/5], Iter [300/937] Loss: 0.0514\n",
      "Epoch [3/5], Iter [400/937] Loss: 0.0802\n",
      "Epoch [3/5], Iter [500/937] Loss: 0.0768\n",
      "Epoch [3/5], Iter [600/937] Loss: 0.1271\n",
      "Epoch [3/5], Iter [700/937] Loss: 0.1792\n",
      "Epoch [3/5], Iter [800/937] Loss: 0.0497\n",
      "Epoch [3/5], Iter [900/937] Loss: 0.1117\n",
      "Epoch [4/5], Iter [100/937] Loss: 0.0155\n",
      "Epoch [4/5], Iter [200/937] Loss: 0.0167\n",
      "Epoch [4/5], Iter [300/937] Loss: 0.0514\n",
      "Epoch [4/5], Iter [400/937] Loss: 0.0687\n",
      "Epoch [4/5], Iter [500/937] Loss: 0.0390\n",
      "Epoch [4/5], Iter [600/937] Loss: 0.0806\n",
      "Epoch [4/5], Iter [700/937] Loss: 0.0210\n",
      "Epoch [4/5], Iter [800/937] Loss: 0.1882\n",
      "Epoch [4/5], Iter [900/937] Loss: 0.0725\n",
      "Epoch [5/5], Iter [100/937] Loss: 0.0464\n",
      "Epoch [5/5], Iter [200/937] Loss: 0.0097\n",
      "Epoch [5/5], Iter [300/937] Loss: 0.1202\n",
      "Epoch [5/5], Iter [400/937] Loss: 0.0637\n",
      "Epoch [5/5], Iter [500/937] Loss: 0.0144\n",
      "Epoch [5/5], Iter [600/937] Loss: 0.0971\n",
      "Epoch [5/5], Iter [700/937] Loss: 0.0946\n",
      "Epoch [5/5], Iter [800/937] Loss: 0.0184\n",
      "Epoch [5/5], Iter [900/937] Loss: 0.0263\n",
      "Epoch [6/5], Iter [100/937] Loss: 0.0113\n",
      "Epoch [6/5], Iter [200/937] Loss: 0.0071\n",
      "Epoch [6/5], Iter [300/937] Loss: 0.0241\n",
      "Epoch [6/5], Iter [400/937] Loss: 0.0200\n",
      "Epoch [6/5], Iter [500/937] Loss: 0.1618\n",
      "Epoch [6/5], Iter [600/937] Loss: 0.0811\n",
      "Epoch [6/5], Iter [700/937] Loss: 0.0354\n",
      "Epoch [6/5], Iter [800/937] Loss: 0.0042\n",
      "Epoch [6/5], Iter [900/937] Loss: 0.0639\n",
      "Epoch [7/5], Iter [100/937] Loss: 0.0246\n",
      "Epoch [7/5], Iter [200/937] Loss: 0.0197\n",
      "Epoch [7/5], Iter [300/937] Loss: 0.0442\n",
      "Epoch [7/5], Iter [400/937] Loss: 0.0170\n",
      "Epoch [7/5], Iter [500/937] Loss: 0.0081\n",
      "Epoch [7/5], Iter [600/937] Loss: 0.0102\n",
      "Epoch [7/5], Iter [700/937] Loss: 0.0069\n",
      "Epoch [7/5], Iter [800/937] Loss: 0.0039\n",
      "Epoch [7/5], Iter [900/937] Loss: 0.0168\n",
      "Epoch [8/5], Iter [100/937] Loss: 0.0104\n",
      "Epoch [8/5], Iter [200/937] Loss: 0.0147\n",
      "Epoch [8/5], Iter [300/937] Loss: 0.0120\n",
      "Epoch [8/5], Iter [400/937] Loss: 0.0651\n",
      "Epoch [8/5], Iter [500/937] Loss: 0.0204\n",
      "Epoch [8/5], Iter [600/937] Loss: 0.0019\n",
      "Epoch [8/5], Iter [700/937] Loss: 0.0040\n",
      "Epoch [8/5], Iter [800/937] Loss: 0.0082\n",
      "Epoch [8/5], Iter [900/937] Loss: 0.0179\n",
      "Epoch [9/5], Iter [100/937] Loss: 0.0170\n",
      "Epoch [9/5], Iter [200/937] Loss: 0.0014\n",
      "Epoch [9/5], Iter [300/937] Loss: 0.0077\n",
      "Epoch [9/5], Iter [400/937] Loss: 0.0081\n",
      "Epoch [9/5], Iter [500/937] Loss: 0.0030\n",
      "Epoch [9/5], Iter [600/937] Loss: 0.0339\n",
      "Epoch [9/5], Iter [700/937] Loss: 0.0042\n",
      "Epoch [9/5], Iter [800/937] Loss: 0.0110\n",
      "Epoch [9/5], Iter [900/937] Loss: 0.0148\n",
      "Epoch [10/5], Iter [100/937] Loss: 0.0010\n",
      "Epoch [10/5], Iter [200/937] Loss: 0.0013\n",
      "Epoch [10/5], Iter [300/937] Loss: 0.0023\n",
      "Epoch [10/5], Iter [400/937] Loss: 0.0020\n",
      "Epoch [10/5], Iter [500/937] Loss: 0.0113\n",
      "Epoch [10/5], Iter [600/937] Loss: 0.0037\n",
      "Epoch [10/5], Iter [700/937] Loss: 0.0218\n",
      "Epoch [10/5], Iter [800/937] Loss: 0.0065\n",
      "Epoch [10/5], Iter [900/937] Loss: 0.0089\n"
     ]
    }
   ],
   "source": [
    "from torch.utils.data import DataLoader\n",
    "\n",
    "# 定义训练数据加载器\n",
    "train_loader = DataLoader(\n",
    "    dataset=train_dataset, batch_size=64, shuffle=True)\n",
    "test_loader = DataLoader(\n",
    "    dataset=test_dataset, batch_size=64, shuffle=False)\n",
    "\n",
    "net = Net()\n",
    "# weights = torch.ones(10)\n",
    "# weights[5] = 2.0  # 为数字5赋予更高的权重\n",
    "criterion = nn.CrossEntropyLoss()\n",
    "optimizer = torch.optim.Adam(net.parameters(), lr=0.001)\n",
    "for epoch in range(10):\n",
    "  for i, (images, labels) in enumerate(train_loader):\n",
    "    optimizer.zero_grad()\n",
    "    outputs = net(images)\n",
    "    loss = criterion(outputs, labels)\n",
    "    loss.backward()\n",
    "    optimizer.step()\n",
    "    if (i + 1) % 100 == 0:\n",
    "      print('Epoch [%d/%d], Iter [%d/%d] Loss: %.4f'\n",
    "            % (epoch + 1, 5, i + 1, len(train_dataset) // 64, loss.item()))"
   ]
  },
  {
   "cell_type": "code",
   "execution_count": 41,
   "metadata": {},
   "outputs": [],
   "source": [
    "# 保存后加载模型\n",
    "torch.save(net.state_dict(), 'model_five_2.0.pth')\n",
    "# net = Net()\n",
    "# net.load_state_dict(torch.load('model.pth'))"
   ]
  },
  {
   "cell_type": "code",
   "execution_count": 46,
   "metadata": {},
   "outputs": [
    {
     "name": "stderr",
     "output_type": "stream",
     "text": [
      "Python(78748) MallocStackLogging: can't turn off malloc stack logging because it was not enabled.\n"
     ]
    },
    {
     "name": "stdout",
     "output_type": "stream",
     "text": [
      "{0: 9, 1: 10, 2: 18, 3: 16, 4: 34, 5: 22, 6: 16, 7: 21, 8: 16, 9: 31}\n",
      "error-count: 193\n",
      "Accuracy of the network on the 10000 test images: 98.07%\n"
     ]
    },
    {
     "data": {
      "text/plain": [
       "<BarContainer object of 10 artists>"
      ]
     },
     "execution_count": 46,
     "metadata": {},
     "output_type": "execute_result"
    },
    {
     "data": {
      "image/png": "[encoded data removed]",
      "text/plain": [
       "<Figure size 640x480 with 1 Axes>"
      ]
     },
     "metadata": {},
     "output_type": "display_data"
    }
   ],
   "source": [
    "import numpy as np\n",
    "import matplotlib.pyplot as plt\n",
    "from pprint import pprint\n",
    "from PIL import Image\n",
    "import os\n",
    "\n",
    "# 测试模型\n",
    "net.eval()  # 切换到评估模式\n",
    "with torch.no_grad():\n",
    "  correct = 0\n",
    "  total = 0\n",
    "  \"\"\" 统计每个数字的错误次数 \"\"\"\n",
    "  error_count_dict = {\n",
    "    0: 0,\n",
    "    1: 0,\n",
    "    2: 0,\n",
    "    3: 0,\n",
    "    4: 0,\n",
    "    5: 0,\n",
    "    6: 0,\n",
    "    7: 0,\n",
    "    8: 0,\n",
    "    9: 0\n",
    "  }\n",
    "\n",
    "  for batch_index, (images, labels) in enumerate( test_loader):\n",
    "    outputs = net(images)\n",
    "    _, predicted = torch.max(outputs.data, 1)\n",
    "    total += labels.size(0)\n",
    "    correct += (predicted == labels).sum().item()\n",
    "    error_index = np.where((predicted == labels).numpy() ==  False)[0]\n",
    "    for index in error_index:\n",
    "      error_count_dict[labels[index].item()] += 1\n",
    "      img = images[index].squeeze().numpy() * 255\n",
    "      img = Image.fromarray(img.astype('uint8'))\n",
    "      img_dir = os.path.join(f'./misclassified_images/{labels[index]}')\n",
    "      if not os.path.exists(img_dir):\n",
    "        os.makedirs(img_dir)\n",
    "      img.save(os.path.join(\n",
    "          img_dir, f'{predicted[index]}_batch{batch_index}_index{index}.png'))\n",
    "      \n",
    "pprint(error_count_dict)\n",
    "print('error-count:', sum(error_count_dict.values()))\n",
    "print('Accuracy of the network on the 10000 test images: {:.2f}%'.format(100 * correct / total))\n",
    "\n",
    "# 将每个数字的错误次数绘制为柱状图\n",
    "plt.bar(error_count_dict.keys(), error_count_dict.values())"
   ]
  }
 ],
 "metadata": {
  "kernelspec": {
   "display_name": "myenv",
   "language": "python",
   "name": "python3"
  },
  "language_info": {
   "codemirror_mode": {
    "name": "ipython",
    "version": 3
   },
   "file_extension": ".py",
   "mimetype": "text/x-python",
   "name": "python",
   "nbconvert_exporter": "python",
   "pygments_lexer": "ipython3",
   "version": "3.10.12"
  }
 },
 "nbformat": 4,
 "nbformat_minor": 2
}

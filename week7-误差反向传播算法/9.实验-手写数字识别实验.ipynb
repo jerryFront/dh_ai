{
 "cells": [
  {
   "cell_type": "code",
   "execution_count": 16,
   "metadata": {},
   "outputs": [],
   "source": [
    "import torch\n",
    "import torch.nn as nn\n",
    "\n",
    "\n",
    "class Net(nn.Module):\n",
    "    def __init__(self):\n",
    "        super(Net, self).__init__()\n",
    "        self.fc1 = nn.Linear(28 * 28, 256)\n",
    "        self.fc2 = nn.Linear(256, 10)\n",
    "\n",
    "    def forward(self, x):\n",
    "        x = x.view(-1, 28 * 28)\n",
    "        x = torch.relu(self.fc1(x))\n",
    "        x = self.fc2(x)\n",
    "        return x\n",
    "\n",
    "    def predict(self, x):\n",
    "        with torch.no_grad():\n",
    "            x = self.forward(x)\n",
    "            return torch.argmax(x, 1)"
   ]
  },
  {
   "cell_type": "code",
   "execution_count": 24,
   "metadata": {},
   "outputs": [],
   "source": [
    "import torch\n",
    "from torch.utils.data import DataLoader\n",
    "from torchvision import datasets, transforms\n",
    "import numpy as np\n",
    "import random\n",
    "\n",
    "# 设置全局随机种子\n",
    "seed = 42\n",
    "torch.manual_seed(seed)\n",
    "torch.cuda.manual_seed(seed)\n",
    "torch.backends.cudnn.deterministic = True\n",
    "torch.backends.cudnn.benchmark = False\n",
    "np.random.seed(seed)\n",
    "random.seed(seed)\n",
    "\n",
    "\n",
    "def worker_init_fn(worker_id):\n",
    "    np.random.seed(seed + worker_id)\n",
    "    random.seed(seed + worker_id)\n",
    "\n",
    "\n",
    "class AddGaussianNoise(object):\n",
    "    def __init__(self, mean=0.0, std=1.0):\n",
    "        self.mean = mean\n",
    "        self.std = std\n",
    "\n",
    "    def __call__(self, tensor):\n",
    "        noise = torch.randn(tensor.size()) * self.std + self.mean\n",
    "        return tensor + noise\n",
    "\n",
    "    def __repr__(self):\n",
    "        return self.__class__.__name__ + '(mean={0}, std={1})'.format(self.mean, self.std)\n",
    "\n",
    "\n",
    "transform = transforms.Compose([\n",
    "    transforms.RandomRotation(12),  # 随机旋转 12 度\n",
    "    transforms.ToTensor()\n",
    "])\n",
    "\n",
    "# 加载训练数据集\n",
    "train_dataset = datasets.MNIST(\n",
    "    root='./data', train=True, download=True, transform=transform)\n",
    "\n",
    "\n",
    "# 定义训练数据加载器\n",
    "train_loader = DataLoader(\n",
    "    dataset=train_dataset, batch_size=64, shuffle=True, worker_init_fn=worker_init_fn)"
   ]
  },
  {
   "cell_type": "code",
   "execution_count": 30,
   "metadata": {},
   "outputs": [
    {
     "data": {
      "text/plain": [
       "RandomRotation(degrees=[-12.0, 12.0], interpolation=nearest, expand=False, fill=0)"
      ]
     },
     "execution_count": 30,
     "metadata": {},
     "output_type": "execute_result"
    }
   ],
   "source": [
    "transforms.RandomRotation(12)"
   ]
  },
  {
   "cell_type": "code",
   "execution_count": 25,
   "metadata": {},
   "outputs": [
    {
     "name": "stdout",
     "output_type": "stream",
     "text": [
      "Epoch [1/10], Iter [100/937] Loss: 0.4542\n",
      "Epoch [1/10], Iter [200/937] Loss: 0.5259\n",
      "Epoch [1/10], Iter [300/937] Loss: 0.5043\n",
      "Epoch [1/10], Iter [400/937] Loss: 0.2808\n",
      "Epoch [1/10], Iter [500/937] Loss: 0.2452\n",
      "Epoch [1/10], Iter [600/937] Loss: 0.2483\n",
      "Epoch [1/10], Iter [700/937] Loss: 0.1516\n",
      "Epoch [1/10], Iter [800/937] Loss: 0.2234\n",
      "Epoch [1/10], Iter [900/937] Loss: 0.1345\n",
      "Epoch [2/10], Iter [100/937] Loss: 0.2519\n",
      "Epoch [2/10], Iter [200/937] Loss: 0.3562\n",
      "Epoch [2/10], Iter [300/937] Loss: 0.0837\n",
      "Epoch [2/10], Iter [400/937] Loss: 0.0896\n",
      "Epoch [2/10], Iter [500/937] Loss: 0.0764\n",
      "Epoch [2/10], Iter [600/937] Loss: 0.1161\n",
      "Epoch [2/10], Iter [700/937] Loss: 0.0499\n",
      "Epoch [2/10], Iter [800/937] Loss: 0.2112\n",
      "Epoch [2/10], Iter [900/937] Loss: 0.2050\n",
      "Epoch [3/10], Iter [100/937] Loss: 0.1928\n",
      "Epoch [3/10], Iter [200/937] Loss: 0.0867\n",
      "Epoch [3/10], Iter [300/937] Loss: 0.0792\n",
      "Epoch [3/10], Iter [400/937] Loss: 0.1432\n",
      "Epoch [3/10], Iter [500/937] Loss: 0.1816\n",
      "Epoch [3/10], Iter [600/937] Loss: 0.0944\n",
      "Epoch [3/10], Iter [700/937] Loss: 0.4541\n",
      "Epoch [3/10], Iter [800/937] Loss: 0.0490\n",
      "Epoch [3/10], Iter [900/937] Loss: 0.0950\n",
      "Epoch [4/10], Iter [100/937] Loss: 0.2717\n",
      "Epoch [4/10], Iter [200/937] Loss: 0.1392\n",
      "Epoch [4/10], Iter [300/937] Loss: 0.0368\n",
      "Epoch [4/10], Iter [400/937] Loss: 0.0587\n",
      "Epoch [4/10], Iter [500/937] Loss: 0.1170\n",
      "Epoch [4/10], Iter [600/937] Loss: 0.1376\n",
      "Epoch [4/10], Iter [700/937] Loss: 0.1126\n",
      "Epoch [4/10], Iter [800/937] Loss: 0.2312\n",
      "Epoch [4/10], Iter [900/937] Loss: 0.0514\n",
      "Epoch [5/10], Iter [100/937] Loss: 0.1492\n",
      "Epoch [5/10], Iter [200/937] Loss: 0.0323\n",
      "Epoch [5/10], Iter [300/937] Loss: 0.0758\n",
      "Epoch [5/10], Iter [400/937] Loss: 0.0611\n",
      "Epoch [5/10], Iter [500/937] Loss: 0.1033\n",
      "Epoch [5/10], Iter [600/937] Loss: 0.0623\n",
      "Epoch [5/10], Iter [700/937] Loss: 0.0659\n",
      "Epoch [5/10], Iter [800/937] Loss: 0.0754\n",
      "Epoch [5/10], Iter [900/937] Loss: 0.0489\n",
      "Epoch [6/10], Iter [100/937] Loss: 0.0157\n",
      "Epoch [6/10], Iter [200/937] Loss: 0.0257\n",
      "Epoch [6/10], Iter [300/937] Loss: 0.0294\n",
      "Epoch [6/10], Iter [400/937] Loss: 0.1280\n",
      "Epoch [6/10], Iter [500/937] Loss: 0.0754\n",
      "Epoch [6/10], Iter [600/937] Loss: 0.0375\n",
      "Epoch [6/10], Iter [700/937] Loss: 0.0357\n",
      "Epoch [6/10], Iter [800/937] Loss: 0.0146\n",
      "Epoch [6/10], Iter [900/937] Loss: 0.1885\n",
      "Epoch [7/10], Iter [100/937] Loss: 0.0548\n",
      "Epoch [7/10], Iter [200/937] Loss: 0.0447\n",
      "Epoch [7/10], Iter [300/937] Loss: 0.0107\n",
      "Epoch [7/10], Iter [400/937] Loss: 0.0577\n",
      "Epoch [7/10], Iter [500/937] Loss: 0.0579\n",
      "Epoch [7/10], Iter [600/937] Loss: 0.0714\n",
      "Epoch [7/10], Iter [700/937] Loss: 0.0410\n",
      "Epoch [7/10], Iter [800/937] Loss: 0.0418\n",
      "Epoch [7/10], Iter [900/937] Loss: 0.0423\n",
      "Epoch [8/10], Iter [100/937] Loss: 0.1126\n",
      "Epoch [8/10], Iter [200/937] Loss: 0.1997\n",
      "Epoch [8/10], Iter [300/937] Loss: 0.1227\n",
      "Epoch [8/10], Iter [400/937] Loss: 0.0939\n",
      "Epoch [8/10], Iter [500/937] Loss: 0.0312\n",
      "Epoch [8/10], Iter [600/937] Loss: 0.0758\n",
      "Epoch [8/10], Iter [700/937] Loss: 0.0111\n",
      "Epoch [8/10], Iter [800/937] Loss: 0.0353\n",
      "Epoch [8/10], Iter [900/937] Loss: 0.0501\n",
      "Epoch [9/10], Iter [100/937] Loss: 0.1313\n",
      "Epoch [9/10], Iter [200/937] Loss: 0.0194\n",
      "Epoch [9/10], Iter [300/937] Loss: 0.1065\n",
      "Epoch [9/10], Iter [400/937] Loss: 0.0286\n",
      "Epoch [9/10], Iter [500/937] Loss: 0.0202\n",
      "Epoch [9/10], Iter [600/937] Loss: 0.0929\n",
      "Epoch [9/10], Iter [700/937] Loss: 0.0107\n",
      "Epoch [9/10], Iter [800/937] Loss: 0.2370\n",
      "Epoch [9/10], Iter [900/937] Loss: 0.1660\n",
      "Epoch [10/10], Iter [100/937] Loss: 0.0329\n",
      "Epoch [10/10], Iter [200/937] Loss: 0.0698\n",
      "Epoch [10/10], Iter [300/937] Loss: 0.0527\n",
      "Epoch [10/10], Iter [400/937] Loss: 0.0369\n",
      "Epoch [10/10], Iter [500/937] Loss: 0.1023\n",
      "Epoch [10/10], Iter [600/937] Loss: 0.0219\n",
      "Epoch [10/10], Iter [700/937] Loss: 0.0550\n",
      "Epoch [10/10], Iter [800/937] Loss: 0.0378\n",
      "Epoch [10/10], Iter [900/937] Loss: 0.0390\n"
     ]
    }
   ],
   "source": [
    "model = Net()\n",
    "criterion = nn.CrossEntropyLoss()\n",
    "optimizer = torch.optim.Adam(model.parameters(), lr=0.001)\n",
    "epochs = 10\n",
    "for epoch in range(epochs):\n",
    "    for i, (images, labels) in enumerate(train_loader):\n",
    "        optimizer.zero_grad()\n",
    "        outputs = model(images)\n",
    "        loss = criterion(outputs, labels)\n",
    "        loss.backward()\n",
    "        optimizer.step()\n",
    "        if (i + 1) % 100 == 0:\n",
    "            print('Epoch [%d/%d], Iter [%d/%d] Loss: %.4f'\n",
    "                  % (epoch + 1, epochs, i + 1, len(train_dataset) // 64, loss.item()))"
   ]
  },
  {
   "cell_type": "code",
   "execution_count": 41,
   "metadata": {},
   "outputs": [],
   "source": [
    "# 保存后加载模型\n",
    "torch.save(model.state_dict(), 'model_five_2.0.pth')\n",
    "# net = Net()\n",
    "# net.load_state_dict(torch.load('model.pth'))"
   ]
  },
  {
   "cell_type": "code",
   "execution_count": 27,
   "metadata": {},
   "outputs": [
    {
     "name": "stdout",
     "output_type": "stream",
     "text": [
      "{0: 8, 1: 6, 2: 21, 3: 18, 4: 20, 5: 25, 6: 10, 7: 12, 8: 17, 9: 30}\n",
      "error-count: 167\n",
      "Accuracy of the network on the 10000 test images: 98.33%\n"
     ]
    },
    {
     "data": {
      "text/plain": [
       "<BarContainer object of 10 artists>"
      ]
     },
     "execution_count": 27,
     "metadata": {},
     "output_type": "execute_result"
    },
    {
     "data": {
      "image/png": "[encoded data removed]",
      "text/plain": [
       "<Figure size 640x480 with 1 Axes>"
      ]
     },
     "metadata": {},
     "output_type": "display_data"
    }
   ],
   "source": [
    "import numpy as np\n",
    "import matplotlib.pyplot as plt\n",
    "from pprint import pprint\n",
    "\n",
    "# 加载测试数据集\n",
    "test_dataset = datasets.MNIST(\n",
    "    root='./data', train=False, download=True, transform=transforms.ToTensor())\n",
    "test_loader = DataLoader(\n",
    "    dataset=test_dataset, batch_size=64, shuffle=False)\n",
    "\n",
    "# 测试模型\n",
    "model.eval()  # 切换到评估模式\n",
    "with torch.no_grad():\n",
    "    correct = 0\n",
    "    total = 0\n",
    "    \"\"\" 统计每个数字的错误次数 \"\"\"\n",
    "    error_count_dict = {\n",
    "        0: 0,\n",
    "        1: 0,\n",
    "        2: 0,\n",
    "        3: 0,\n",
    "        4: 0,\n",
    "        5: 0,\n",
    "        6: 0,\n",
    "        7: 0,\n",
    "        8: 0,\n",
    "        9: 0\n",
    "    }\n",
    "\n",
    "    for batch_index, (images, labels) in enumerate(test_loader):\n",
    "        outputs = model(images)\n",
    "        _, predicted = torch.max(outputs.data, 1)\n",
    "        total += labels.size(0)\n",
    "        correct += (predicted == labels).sum().item()\n",
    "        error_index = np.where((predicted == labels).numpy() == False)[0]\n",
    "        for index in error_index:\n",
    "            error_count_dict[labels[index].item()] += 1\n",
    "            # img = images[index].squeeze().numpy() * 255\n",
    "            # img = Image.fromarray(img.astype('uint8'))\n",
    "            # img_dir = os.path.join(f'./misclassified_images/{labels[index]}')\n",
    "            # if not os.path.exists(img_dir):\n",
    "            #   os.makedirs(img_dir)\n",
    "            # img.save(os.path.join(\n",
    "            #     img_dir, f'{predicted[index]}_batch{batch_index}_index{index}.png'))\n",
    "\n",
    "pprint(error_count_dict)\n",
    "print('error-count:', sum(error_count_dict.values()))\n",
    "print('Accuracy of the network on the 10000 test images: {:.2f}%'.format(\n",
    "    100 * correct / total))\n",
    "\n",
    "# 将每个数字的错误次数绘制为柱状图\n",
    "plt.bar(error_count_dict.keys(), error_count_dict.values())"
   ]
  }
 ],
 "metadata": {
  "kernelspec": {
   "display_name": "myenv",
   "language": "python",
   "name": "python3"
  },
  "language_info": {
   "codemirror_mode": {
    "name": "ipython",
    "version": 3
   },
   "file_extension": ".py",
   "mimetype": "text/x-python",
   "name": "python",
   "nbconvert_exporter": "python",
   "pygments_lexer": "ipython3",
   "version": "3.9.19"
  }
 },
 "nbformat": 4,
 "nbformat_minor": 2
}

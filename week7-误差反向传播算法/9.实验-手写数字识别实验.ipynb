{
 "cells": [
  {
   "cell_type": "code",
   "execution_count": 1,
   "metadata": {},
   "outputs": [],
   "source": [
    "import os\n",
    "import torch\n",
    "import torch.nn as nn\n",
    "\n",
    "\n",
    "class Net(nn.Module):\n",
    "    def __init__(self):\n",
    "        super(Net, self).__init__()\n",
    "        self.fc1 = nn.Linear(28 * 28, 256)\n",
    "        self.fc2 = nn.Linear(256, 10)\n",
    "\n",
    "    def forward(self, x):\n",
    "        x = x.view(-1, 28 * 28)\n",
    "        x = torch.relu(self.fc1(x))\n",
    "        x = self.fc2(x)\n",
    "        return x\n",
    "\n",
    "    def predict(self, x):\n",
    "        with torch.no_grad():\n",
    "            x = self.forward(x)\n",
    "            return torch.argmax(x, 1)\n",
    "\n",
    "\n",
    "os.environ['WANDB_NOTEBOOK_NAME'] = '9.实验-手写数字识别实验.ipynb'"
   ]
  },
  {
   "cell_type": "code",
   "execution_count": 2,
   "metadata": {},
   "outputs": [],
   "source": [
    "import torch\n",
    "from torch.utils.data import DataLoader\n",
    "from torchvision import datasets, transforms\n",
    "import numpy as np\n",
    "import random\n",
    "\n",
    "# 设置全局随机种子\n",
    "seed = 42\n",
    "torch.manual_seed(seed)\n",
    "torch.cuda.manual_seed(seed)\n",
    "torch.backends.cudnn.deterministic = True\n",
    "torch.backends.cudnn.benchmark = False\n",
    "np.random.seed(seed)\n",
    "random.seed(seed)\n",
    "\n",
    "\n",
    "def worker_init_fn(worker_id):\n",
    "    np.random.seed(seed + worker_id)\n",
    "    random.seed(seed + worker_id)\n",
    "\n",
    "\n",
    "class AddGaussianNoise(object):\n",
    "    def __init__(self, mean=0.0, std=1.0):\n",
    "        self.mean = mean\n",
    "        self.std = std\n",
    "\n",
    "    def __call__(self, tensor):\n",
    "        noise = torch.randn(tensor.size()) * self.std + self.mean\n",
    "        return tensor + noise\n",
    "\n",
    "    def __repr__(self):\n",
    "        return self.__class__.__name__ + '(mean={0}, std={1})'.format(self.mean, self.std)\n",
    "\n",
    "\n",
    "transform = transforms.Compose([\n",
    "    transforms.RandomRotation(12),  # 随机旋转 12 度\n",
    "    transforms.ToTensor()\n",
    "])\n",
    "\n",
    "# 加载训练数据集\n",
    "train_dataset = datasets.MNIST(\n",
    "    root='./data', train=True, download=True, transform=transform)\n",
    "\n",
    "\n",
    "# 定义训练数据加载器\n",
    "train_loader = DataLoader(\n",
    "    dataset=train_dataset, batch_size=64, shuffle=True, worker_init_fn=worker_init_fn)"
   ]
  },
  {
   "cell_type": "code",
   "execution_count": 4,
   "metadata": {},
   "outputs": [
    {
     "name": "stderr",
     "output_type": "stream",
     "text": [
      "\u001b[34m\u001b[1mwandb\u001b[0m: Currently logged in as: \u001b[33mwuhonglei1017368065\u001b[0m (\u001b[33mwuhonglei1017368065-shopee\u001b[0m). Use \u001b[1m`wandb login --relogin`\u001b[0m to force relogin\n"
     ]
    },
    {
     "data": {
      "text/html": [
       "Tracking run with wandb version 0.17.7"
      ],
      "text/plain": [
       "<IPython.core.display.HTML object>"
      ]
     },
     "metadata": {},
     "output_type": "display_data"
    },
    {
     "data": {
      "text/html": [
       "Run data is saved locally in <code>/Users/honglei.wu/Desktop/机器学习/code/dh_ai/week7-误差反向传播算法/wandb/run-20240829_101425-wo7z11fd</code>"
      ],
      "text/plain": [
       "<IPython.core.display.HTML object>"
      ]
     },
     "metadata": {},
     "output_type": "display_data"
    },
    {
     "data": {
      "text/html": [
       "Syncing run <strong><a href='https://wandb.ai/wuhonglei1017368065-shopee/MNIST-%E6%89%8B%E5%86%99%E6%95%B0%E5%AD%97%E8%AF%86%E5%88%AB/runs/wo7z11fd' target=\"_blank\">hearty-deluge-30</a></strong> to <a href='https://wandb.ai/wuhonglei1017368065-shopee/MNIST-%E6%89%8B%E5%86%99%E6%95%B0%E5%AD%97%E8%AF%86%E5%88%AB' target=\"_blank\">Weights & Biases</a> (<a href='https://wandb.me/run' target=\"_blank\">docs</a>)<br/>"
      ],
      "text/plain": [
       "<IPython.core.display.HTML object>"
      ]
     },
     "metadata": {},
     "output_type": "display_data"
    },
    {
     "data": {
      "text/html": [
       " View project at <a href='https://wandb.ai/wuhonglei1017368065-shopee/MNIST-%E6%89%8B%E5%86%99%E6%95%B0%E5%AD%97%E8%AF%86%E5%88%AB' target=\"_blank\">https://wandb.ai/wuhonglei1017368065-shopee/MNIST-%E6%89%8B%E5%86%99%E6%95%B0%E5%AD%97%E8%AF%86%E5%88%AB</a>"
      ],
      "text/plain": [
       "<IPython.core.display.HTML object>"
      ]
     },
     "metadata": {},
     "output_type": "display_data"
    },
    {
     "data": {
      "text/html": [
       " View run at <a href='https://wandb.ai/wuhonglei1017368065-shopee/MNIST-%E6%89%8B%E5%86%99%E6%95%B0%E5%AD%97%E8%AF%86%E5%88%AB/runs/wo7z11fd' target=\"_blank\">https://wandb.ai/wuhonglei1017368065-shopee/MNIST-%E6%89%8B%E5%86%99%E6%95%B0%E5%AD%97%E8%AF%86%E5%88%AB/runs/wo7z11fd</a>"
      ],
      "text/plain": [
       "<IPython.core.display.HTML object>"
      ]
     },
     "metadata": {},
     "output_type": "display_data"
    },
    {
     "name": "stdout",
     "output_type": "stream",
     "text": [
      "Epoch [1/3], Iter [100/937] Loss: 0.4718\n",
      "Epoch [1/3], Iter [200/937] Loss: 0.3052\n",
      "Epoch [1/3], Iter [300/937] Loss: 0.6598\n",
      "Epoch [1/3], Iter [400/937] Loss: 0.2521\n",
      "Epoch [1/3], Iter [500/937] Loss: 0.4304\n",
      "Epoch [1/3], Iter [600/937] Loss: 0.2396\n",
      "Epoch [1/3], Iter [700/937] Loss: 0.1375\n",
      "Epoch [1/3], Iter [800/937] Loss: 0.1159\n",
      "Epoch [1/3], Iter [900/937] Loss: 0.1657\n",
      "Epoch [2/3], Iter [100/937] Loss: 0.2239\n",
      "Epoch [2/3], Iter [200/937] Loss: 0.2143\n",
      "Epoch [2/3], Iter [300/937] Loss: 0.1010\n",
      "Epoch [2/3], Iter [400/937] Loss: 0.2374\n",
      "Epoch [2/3], Iter [500/937] Loss: 0.0766\n",
      "Epoch [2/3], Iter [600/937] Loss: 0.1210\n",
      "Epoch [2/3], Iter [700/937] Loss: 0.1388\n",
      "Epoch [2/3], Iter [800/937] Loss: 0.1767\n",
      "Epoch [2/3], Iter [900/937] Loss: 0.1263\n",
      "Epoch [3/3], Iter [100/937] Loss: 0.0855\n",
      "Epoch [3/3], Iter [200/937] Loss: 0.0986\n",
      "Epoch [3/3], Iter [300/937] Loss: 0.2081\n",
      "Epoch [3/3], Iter [400/937] Loss: 0.0751\n",
      "Epoch [3/3], Iter [500/937] Loss: 0.1214\n",
      "Epoch [3/3], Iter [600/937] Loss: 0.1118\n",
      "Epoch [3/3], Iter [700/937] Loss: 0.0410\n",
      "Epoch [3/3], Iter [800/937] Loss: 0.1307\n",
      "Epoch [3/3], Iter [900/937] Loss: 0.0611\n"
     ]
    },
    {
     "data": {
      "text/html": [
       "<style>\n",
       "    table.wandb td:nth-child(1) { padding: 0 10px; text-align: left ; width: auto;} td:nth-child(2) {text-align: left ; width: 100%}\n",
       "    .wandb-row { display: flex; flex-direction: row; flex-wrap: wrap; justify-content: flex-start; width: 100% }\n",
       "    .wandb-col { display: flex; flex-direction: column; flex-basis: 100%; flex: 1; padding: 10px; }\n",
       "    </style>\n",
       "<div class=\"wandb-row\"><div class=\"wandb-col\"><h3>Run history:</h3><br/><table class=\"wandb\"><tr><td>acc</td><td>▁▆█</td></tr><tr><td>loss</td><td>█▂▁</td></tr></table><br/></div><div class=\"wandb-col\"><h3>Run summary:</h3><br/><table class=\"wandb\"><tr><td>acc</td><td>1</td></tr><tr><td>loss</td><td>0.04853</td></tr></table><br/></div></div>"
      ],
      "text/plain": [
       "<IPython.core.display.HTML object>"
      ]
     },
     "metadata": {},
     "output_type": "display_data"
    },
    {
     "data": {
      "text/html": [
       " View run <strong style=\"color:#cdcd00\">hearty-deluge-30</strong> at: <a href='https://wandb.ai/wuhonglei1017368065-shopee/MNIST-%E6%89%8B%E5%86%99%E6%95%B0%E5%AD%97%E8%AF%86%E5%88%AB/runs/wo7z11fd' target=\"_blank\">https://wandb.ai/wuhonglei1017368065-shopee/MNIST-%E6%89%8B%E5%86%99%E6%95%B0%E5%AD%97%E8%AF%86%E5%88%AB/runs/wo7z11fd</a><br/> View project at: <a href='https://wandb.ai/wuhonglei1017368065-shopee/MNIST-%E6%89%8B%E5%86%99%E6%95%B0%E5%AD%97%E8%AF%86%E5%88%AB' target=\"_blank\">https://wandb.ai/wuhonglei1017368065-shopee/MNIST-%E6%89%8B%E5%86%99%E6%95%B0%E5%AD%97%E8%AF%86%E5%88%AB</a><br/>Synced 5 W&B file(s), 0 media file(s), 2 artifact file(s) and 0 other file(s)"
      ],
      "text/plain": [
       "<IPython.core.display.HTML object>"
      ]
     },
     "metadata": {},
     "output_type": "display_data"
    },
    {
     "data": {
      "text/html": [
       "Find logs at: <code>./wandb/run-20240829_101425-wo7z11fd/logs</code>"
      ],
      "text/plain": [
       "<IPython.core.display.HTML object>"
      ]
     },
     "metadata": {},
     "output_type": "display_data"
    }
   ],
   "source": [
    "import wandb\n",
    "import neptune\n",
    "\n",
    "wandb.require(\"core\")\n",
    "\n",
    "model = Net()\n",
    "epochs = 3\n",
    "learning_rate = 0.001\n",
    "criterion = nn.CrossEntropyLoss()\n",
    "optimizer = torch.optim.Adam(model.parameters(), lr=learning_rate)\n",
    "\n",
    "wandb_init_args = {\n",
    "    'project': 'MNIST-手写数字识别',\n",
    "    'config': {\n",
    "        \"learning_rate\": learning_rate,\n",
    "        \"architecture\": \"ANN\",\n",
    "        \"dataset\": \"MNIST\",\n",
    "        \"epochs\": epochs,\n",
    "    },\n",
    "    # 'mode': 'offline',\n",
    "    'reinit': True\n",
    "}\n",
    "run = wandb.init(**wandb_init_args, job_type=\"training\")\n",
    "wandb_init_args['name'] = run.name\n",
    "wandb.watch(model, log=\"all\")\n",
    "\n",
    "for epoch in range(epochs):\n",
    "    for i, (images, labels) in enumerate(train_loader):\n",
    "        optimizer.zero_grad()\n",
    "        outputs = model(images)\n",
    "        loss = criterion(outputs, labels)\n",
    "        acc = (outputs.argmax(dim=1) == labels).float().mean()\n",
    "        loss.backward()\n",
    "        optimizer.step()\n",
    "        if (i + 1) % 100 == 0:\n",
    "            print('Epoch [%d/%d], Iter [%d/%d] Loss: %.4f'\n",
    "                  % (epoch + 1, epochs, i + 1, len(train_dataset) // 64, loss.item()))\n",
    "    wandb.log({\"loss\": loss.item(), \"acc\": acc.item()}, step=epoch)\n",
    "\n",
    "wandb.finish()"
   ]
  },
  {
   "cell_type": "code",
   "execution_count": 41,
   "metadata": {},
   "outputs": [],
   "source": [
    "# 保存后加载模型\n",
    "torch.save(model.state_dict(), 'model_five_2.0.pth')\n",
    "# net = Net()\n",
    "# net.load_state_dict(torch.load('model.pth'))"
   ]
  },
  {
   "cell_type": "code",
   "execution_count": 7,
   "metadata": {},
   "outputs": [
    {
     "data": {
      "text/html": [
       "Tracking run with wandb version 0.17.7"
      ],
      "text/plain": [
       "<IPython.core.display.HTML object>"
      ]
     },
     "metadata": {},
     "output_type": "display_data"
    },
    {
     "data": {
      "text/html": [
       "Run data is saved locally in <code>/Users/honglei.wu/Desktop/机器学习/code/dh_ai/week7-误差反向传播算法/wandb/run-20240829_102251-9t7q049p</code>"
      ],
      "text/plain": [
       "<IPython.core.display.HTML object>"
      ]
     },
     "metadata": {},
     "output_type": "display_data"
    },
    {
     "data": {
      "text/html": [
       "Syncing run <strong><a href='https://wandb.ai/wuhonglei1017368065-shopee/MNIST-%E6%89%8B%E5%86%99%E6%95%B0%E5%AD%97%E8%AF%86%E5%88%AB/runs/9t7q049p' target=\"_blank\">hearty-deluge-30</a></strong> to <a href='https://wandb.ai/wuhonglei1017368065-shopee/MNIST-%E6%89%8B%E5%86%99%E6%95%B0%E5%AD%97%E8%AF%86%E5%88%AB' target=\"_blank\">Weights & Biases</a> (<a href='https://wandb.me/run' target=\"_blank\">docs</a>)<br/>"
      ],
      "text/plain": [
       "<IPython.core.display.HTML object>"
      ]
     },
     "metadata": {},
     "output_type": "display_data"
    },
    {
     "data": {
      "text/html": [
       " View project at <a href='https://wandb.ai/wuhonglei1017368065-shopee/MNIST-%E6%89%8B%E5%86%99%E6%95%B0%E5%AD%97%E8%AF%86%E5%88%AB' target=\"_blank\">https://wandb.ai/wuhonglei1017368065-shopee/MNIST-%E6%89%8B%E5%86%99%E6%95%B0%E5%AD%97%E8%AF%86%E5%88%AB</a>"
      ],
      "text/plain": [
       "<IPython.core.display.HTML object>"
      ]
     },
     "metadata": {},
     "output_type": "display_data"
    },
    {
     "data": {
      "text/html": [
       " View run at <a href='https://wandb.ai/wuhonglei1017368065-shopee/MNIST-%E6%89%8B%E5%86%99%E6%95%B0%E5%AD%97%E8%AF%86%E5%88%AB/runs/9t7q049p' target=\"_blank\">https://wandb.ai/wuhonglei1017368065-shopee/MNIST-%E6%89%8B%E5%86%99%E6%95%B0%E5%AD%97%E8%AF%86%E5%88%AB/runs/9t7q049p</a>"
      ],
      "text/plain": [
       "<IPython.core.display.HTML object>"
      ]
     },
     "metadata": {},
     "output_type": "display_data"
    },
    {
     "name": "stdout",
     "output_type": "stream",
     "text": [
      "{0: 19, 1: 17, 2: 25, 3: 15, 4: 24, 5: 31, 6: 19, 7: 38, 8: 35, 9: 36}\n",
      "error-count: 259\n",
      "Accuracy of the network on the 10000 test images: 97.41%\n"
     ]
    },
    {
     "data": {
      "text/html": [
       "<style>\n",
       "    table.wandb td:nth-child(1) { padding: 0 10px; text-align: left ; width: auto;} td:nth-child(2) {text-align: left ; width: 100%}\n",
       "    .wandb-row { display: flex; flex-direction: row; flex-wrap: wrap; justify-content: flex-start; width: 100% }\n",
       "    .wandb-col { display: flex; flex-direction: column; flex-basis: 100%; flex: 1; padding: 10px; }\n",
       "    </style>\n",
       "<div class=\"wandb-row\"><div class=\"wandb-col\"><h3>Run history:</h3><br/><table class=\"wandb\"><tr><td>test_accuracy</td><td>▁</td></tr><tr><td>test_loss</td><td>▁</td></tr></table><br/></div><div class=\"wandb-col\"><h3>Run summary:</h3><br/><table class=\"wandb\"><tr><td>test_accuracy</td><td>0.9741</td></tr><tr><td>test_loss</td><td>0.08329</td></tr></table><br/></div></div>"
      ],
      "text/plain": [
       "<IPython.core.display.HTML object>"
      ]
     },
     "metadata": {},
     "output_type": "display_data"
    },
    {
     "data": {
      "text/html": [
       " View run <strong style=\"color:#cdcd00\">hearty-deluge-30</strong> at: <a href='https://wandb.ai/wuhonglei1017368065-shopee/MNIST-%E6%89%8B%E5%86%99%E6%95%B0%E5%AD%97%E8%AF%86%E5%88%AB/runs/9t7q049p' target=\"_blank\">https://wandb.ai/wuhonglei1017368065-shopee/MNIST-%E6%89%8B%E5%86%99%E6%95%B0%E5%AD%97%E8%AF%86%E5%88%AB/runs/9t7q049p</a><br/> View project at: <a href='https://wandb.ai/wuhonglei1017368065-shopee/MNIST-%E6%89%8B%E5%86%99%E6%95%B0%E5%AD%97%E8%AF%86%E5%88%AB' target=\"_blank\">https://wandb.ai/wuhonglei1017368065-shopee/MNIST-%E6%89%8B%E5%86%99%E6%95%B0%E5%AD%97%E8%AF%86%E5%88%AB</a><br/>Synced 5 W&B file(s), 0 media file(s), 4 artifact file(s) and 1 other file(s)"
      ],
      "text/plain": [
       "<IPython.core.display.HTML object>"
      ]
     },
     "metadata": {},
     "output_type": "display_data"
    },
    {
     "data": {
      "text/html": [
       "Find logs at: <code>./wandb/run-20240829_102251-9t7q049p/logs</code>"
      ],
      "text/plain": [
       "<IPython.core.display.HTML object>"
      ]
     },
     "metadata": {},
     "output_type": "display_data"
    },
    {
     "data": {
      "image/png": "[encoded data removed]",
      "text/plain": [
       "<Figure size 640x480 with 1 Axes>"
      ]
     },
     "metadata": {},
     "output_type": "display_data"
    }
   ],
   "source": [
    "import numpy as np\n",
    "import matplotlib.pyplot as plt\n",
    "from pprint import pprint\n",
    "\n",
    "wandb.init(**wandb_init_args, job_type=\"eval\")\n",
    "\n",
    "# 加载测试数据集\n",
    "test_dataset = datasets.MNIST(\n",
    "    root='./data', train=False, download=True, transform=transforms.ToTensor())\n",
    "test_loader = DataLoader(\n",
    "    dataset=test_dataset, batch_size=64, shuffle=False)\n",
    "\n",
    "# 测试模型\n",
    "model.eval()  # 切换到评估模式\n",
    "with torch.no_grad():\n",
    "    \"\"\" 统计每个数字的错误次数 \"\"\"\n",
    "    error_count_dict = {\n",
    "        0: 0,\n",
    "        1: 0,\n",
    "        2: 0,\n",
    "        3: 0,\n",
    "        4: 0,\n",
    "        5: 0,\n",
    "        6: 0,\n",
    "        7: 0,\n",
    "        8: 0,\n",
    "        9: 0\n",
    "    }\n",
    "    test_loss = 0.0\n",
    "    correct = 0\n",
    "    total = 0\n",
    "\n",
    "    for batch_index, (images, labels) in enumerate(test_loader):\n",
    "        outputs = model(images)\n",
    "        loss = criterion(outputs, labels)\n",
    "        test_loss += loss.item() * images.size(0)\n",
    "        _, predicted = torch.max(outputs.data, 1)\n",
    "        total += labels.size(0)\n",
    "        correct += (predicted == labels).sum().item()\n",
    "        error_index = np.where((predicted == labels).numpy() == False)[0]\n",
    "        for index in error_index:\n",
    "            error_count_dict[labels[index].item()] += 1\n",
    "            # img = images[index].squeeze().numpy() * 255\n",
    "            # img = Image.fromarray(img.astype('uint8'))\n",
    "            # img_dir = os.path.join(f'./misclassified_images/{labels[index]}')\n",
    "            # if not os.path.exists(img_dir):\n",
    "            #   os.makedirs(img_dir)\n",
    "            # img.save(os.path.join(\n",
    "            #     img_dir, f'{predicted[index]}_batch{batch_index}_index{index}.png'))\n",
    "\n",
    "test_loss /= total\n",
    "test_accuracy = correct / total\n",
    "\n",
    "pprint(error_count_dict)\n",
    "print('error-count:', sum(error_count_dict.values()))\n",
    "print('Accuracy of the network on the 10000 test images: {:.2f}%'.format(\n",
    "    100 * test_accuracy))\n",
    "\n",
    "# 将每个数字的错误次数绘制为柱状图\n",
    "plt.bar(error_count_dict.keys(), error_count_dict.values())\n",
    "\n",
    "# 将 dict error_count_dict 的 value 由 int 转为 str\n",
    "error_count_dict = {str(k): str(v) for k, v in error_count_dict.items()}\n",
    "\n",
    "# 准备柱状图数据\n",
    "data = [[digit, count] for digit, count in error_count_dict.items()]\n",
    "\n",
    "# 创建柱状图\n",
    "table = wandb.Table(data=data, columns=[\"Digit\", \"Count\"])\n",
    "bar_plot = wandb.plot.bar(table, \"Digit\", \"Count\",\n",
    "                          title=\"Digit Error Distribution\")\n",
    "\n",
    "wandb.log({\n",
    "    \"test_loss\": test_loss,\n",
    "    \"test_accuracy\": test_accuracy,\n",
    "    \"digit_error_distribution\": bar_plot\n",
    "})\n",
    "\n",
    "wandb.finish()"
   ]
  }
 ],
 "metadata": {
  "kernelspec": {
   "display_name": "myenv",
   "language": "python",
   "name": "python3"
  },
  "language_info": {
   "codemirror_mode": {
    "name": "ipython",
    "version": 3
   },
   "file_extension": ".py",
   "mimetype": "text/x-python",
   "name": "python",
   "nbconvert_exporter": "python",
   "pygments_lexer": "ipython3",
   "version": "3.10.12"
  }
 },
 "nbformat": 4,
 "nbformat_minor": 2
}
